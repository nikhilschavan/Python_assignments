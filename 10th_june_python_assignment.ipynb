{
  "nbformat": 4,
  "nbformat_minor": 0,
  "metadata": {
    "colab": {
      "provenance": []
    },
    "kernelspec": {
      "name": "python3",
      "display_name": "Python 3"
    },
    "language_info": {
      "name": "python"
    }
  },
  "cells": [
    {
      "cell_type": "markdown",
      "source": [
        "1. In Python, what is the difference between a built-in function and a user-defined\n",
        "function? Provide an example of each\n",
        "Ans:\n",
        "- build in functions: built in functions are predifined and can be used directly\n",
        "- E.g print(\"hello\")\n",
        "- User defined functions: these functions are defined by user so that can be resuable.\n",
        "- E.g def print_name(name):\n",
        "print(“My name is, {name} ”)"
      ],
      "metadata": {
        "id": "kJfw_XemJ8Bn"
      }
    },
    {
      "cell_type": "markdown",
      "source": [
        "2. How can you pass arguments to a function in Python? Explain the difference between\n",
        "positional arguments and keyword arguments.\n",
        "Ans:\n",
        "- Information can be passed into functions as arguments. Arguments are specified after the function name, inside the parentheses\n",
        "- **Positional arguments** must be included in the correct order and have to be passed in a specific order.\n",
        "- In case of **keyword arguments**, parameters are passed as\n",
        "key-value pair, so ordering does not matter."
      ],
      "metadata": {
        "id": "fFgNUxXyMFck"
      }
    },
    {
      "cell_type": "markdown",
      "source": [
        "3. What is the purpose of the return statement in a function? Can a function have multiple\n",
        "return statements? Explain with an example.\n",
        "Ans:\n",
        "- The return statement has two purpose\n",
        "  - **Value output**: outputting value back to caller, this value can be assigned to other\n",
        "variable or used in other part of program\n",
        "  - **Termination**: to terminate the function\n",
        "- Yes function can have multiple return statement,"
      ],
      "metadata": {
        "id": "Xg53O_VzK75J"
      }
    },
    {
      "cell_type": "markdown",
      "source": [
        "4. What are lambda functions in Python? How are they different from regular functions?\n",
        "Provide an example where a lambda function can be useful.\n",
        "Ans:\n",
        "- **Lambda functions** are similar to user-defined functions but without a name. They're commonly referred to as anonymous functions."
      ],
      "metadata": {
        "id": "67ntfBc3N48T"
      }
    },
    {
      "cell_type": "code",
      "source": [
        "#EXAMPLE\n",
        "\n",
        "x= lambda a,b,c:a+b+c\n",
        "print(x(2,3,4))"
      ],
      "metadata": {
        "colab": {
          "base_uri": "https://localhost:8080/"
        },
        "id": "_Klqs_fEPCjs",
        "outputId": "1df42e14-0a0b-4492-cfff-6fd017bc0423"
      },
      "execution_count": 2,
      "outputs": [
        {
          "output_type": "stream",
          "name": "stdout",
          "text": [
            "9\n"
          ]
        }
      ]
    },
    {
      "cell_type": "markdown",
      "source": [
        "5. How does the concept of \"scope\" apply to functions in Python? Explain the difference\n",
        "between local scope and global scope.\n",
        "Ans:\n",
        "- scope is the code block or body of any Python function or lambda expression. This Python scope contains the names that you define inside the function.\n",
        "- The scope of **global** variables is the entire program whereas the scope of **local** variable is limited to the function where it is defined."
      ],
      "metadata": {
        "id": "cTlTRWoVPasZ"
      }
    },
    {
      "cell_type": "markdown",
      "source": [
        "6. How can you use the \"return\" statement in a Python function to return multiple values?"
      ],
      "metadata": {
        "id": "p1ETcanSP7yj"
      }
    },
    {
      "cell_type": "code",
      "source": [
        "def operation(x,y):\n",
        "  add=(x+y)\n",
        "  substract=(x-y)\n",
        "  return add,substract"
      ],
      "metadata": {
        "id": "xe9w-fFZQm3U"
      },
      "execution_count": 29,
      "outputs": []
    },
    {
      "cell_type": "code",
      "source": [
        "operation(3,2)"
      ],
      "metadata": {
        "colab": {
          "base_uri": "https://localhost:8080/"
        },
        "id": "KA2-_sh1o_s3",
        "outputId": "a5ddc859-9cc7-4073-a2f4-0642f0c7c72e"
      },
      "execution_count": 30,
      "outputs": [
        {
          "output_type": "execute_result",
          "data": {
            "text/plain": [
              "(5, 1)"
            ]
          },
          "metadata": {},
          "execution_count": 30
        }
      ]
    },
    {
      "cell_type": "markdown",
      "source": [
        "7. What is the difference between the \"pass by value\" and \"pass by reference\" concepts\n",
        "when it comes to function arguments in Python?\n",
        "Ans:\n",
        "- The difference between pass-by-reference and pass-by-value is that modifications made to arguments passed in by reference in the called function have effect in the calling function, whereas modifications made to arguments passed in by value in the called function can not affect the calling function."
      ],
      "metadata": {
        "id": "t6rx7yj-hkqV"
      }
    },
    {
      "cell_type": "markdown",
      "source": [
        "8. Create a function that can intake integer or decimal value and do following operations:\n",
        "a. Logarithmic function (log x)\n",
        "b. Exponential function (exp(x))\n",
        "c. Power function with base 2 (2^x)\n",
        "d. Square root"
      ],
      "metadata": {
        "id": "ir61Q7vhiV9e"
      }
    },
    {
      "cell_type": "code",
      "source": [
        "import math\n",
        "def math_operations(x):\n",
        "  log_ops=math.log(x)\n",
        "  exp_ops=math.exp(x)\n",
        "  power_ops=math.pow(2,x)\n",
        "  sqrt_ops=math.sqrt(x)\n",
        "  return log_ops, exp_ops,power_ops, sqrt_ops"
      ],
      "metadata": {
        "id": "gOOChE0ZiySM"
      },
      "execution_count": 18,
      "outputs": []
    },
    {
      "cell_type": "code",
      "source": [
        "math_operations(4)"
      ],
      "metadata": {
        "colab": {
          "base_uri": "https://localhost:8080/"
        },
        "id": "hQSB5czqj4Vs",
        "outputId": "a354e5e4-cee3-4dd7-bfe0-2cb9c00077df"
      },
      "execution_count": 19,
      "outputs": [
        {
          "output_type": "execute_result",
          "data": {
            "text/plain": [
              "(1.3862943611198906, 54.598150033144236, 16.0, 2.0)"
            ]
          },
          "metadata": {},
          "execution_count": 19
        }
      ]
    },
    {
      "cell_type": "markdown",
      "source": [
        "9. Create a function that takes a full name as an argument and returns first name and last\n",
        "name.\n",
        "Ans:"
      ],
      "metadata": {
        "id": "TK8QBnaYnJdv"
      }
    },
    {
      "cell_type": "code",
      "source": [
        "def Name(full_name):\n",
        "  name=full_name.split()\n",
        "  first_name=name[0]\n",
        "  last_name=name[-1]\n",
        "  return first_name, last_name"
      ],
      "metadata": {
        "id": "ugsgS1Jtnbs5"
      },
      "execution_count": 36,
      "outputs": []
    },
    {
      "cell_type": "code",
      "source": [
        "Name(\"Nikhil Sanjay Chavan\")"
      ],
      "metadata": {
        "colab": {
          "base_uri": "https://localhost:8080/"
        },
        "id": "qD6ECD8rqRQ4",
        "outputId": "a6e033dc-67bb-40f5-f781-1988581832dc"
      },
      "execution_count": 38,
      "outputs": [
        {
          "output_type": "execute_result",
          "data": {
            "text/plain": [
              "('Nikhil', 'Chavan')"
            ]
          },
          "metadata": {},
          "execution_count": 38
        }
      ]
    }
  ]
}