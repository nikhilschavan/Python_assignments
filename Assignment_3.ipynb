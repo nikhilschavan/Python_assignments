{
 "cells": [
  {
   "cell_type": "markdown",
   "id": "ba5c85b7",
   "metadata": {},
   "source": [
    "1.Why are functions advantageous to have in your programs?\n",
    "ANS: \n",
    "   - Function reduces need for writing duplicate code again and again, also it makes program easy to read and debug , write unit test, easy to maintain, short programs. Functions can also be used in other programs. Functions can improve performance also.\n",
    "\t- Functions improves readability, maintainability - so changes done at function gets reflected in complete code, it also improve testability as by writing code into functions, its easier to write unit tests.\n"
   ]
  },
  {
   "cell_type": "markdown",
   "id": "5fa01f02",
   "metadata": {},
   "source": [
    "2.When does the code in a function run: when it's specified or when it's called?\n",
    "ANS:\n",
    "   - When its called."
   ]
  },
  {
   "cell_type": "markdown",
   "id": "cc95e239",
   "metadata": {},
   "source": [
    "3.What statement creates a function?\n",
    "ANS:\n",
    "   - Def statement creates a function."
   ]
  },
  {
   "cell_type": "markdown",
   "id": "7165e8a8",
   "metadata": {},
   "source": [
    "4.What is the difference between a function and a function call?\n",
    "ANS:\n",
    "   - Function is block of code, function call is act of invoking a function. Function takes parameters to be used inside code, whereas function call takes arguments passed to function after invoking it."
   ]
  },
  {
   "cell_type": "markdown",
   "id": "24608377",
   "metadata": {},
   "source": [
    "5.How many global scopes are there in a Python program? How many local scopes?\n",
    "Ans:\n",
    "   - Typically 1 global scopes defined outside of function.There can be many local scope, defined inside function, new local scope created each time a function is called and gets destroyed when function completes execution.\n"
   ]
  },
  {
   "cell_type": "markdown",
   "id": "4835141b",
   "metadata": {},
   "source": [
    "6.What happens to variables in a local scope when the function call returns?\n",
    "ANS:\n",
    "   - Local scope gets destroyed w.hen function call returns."
   ]
  },
  {
   "cell_type": "markdown",
   "id": "05a920be",
   "metadata": {},
   "source": [
    "7.. What is the concept of a return value? Is it possible to have a return value in an expression?\n",
    "ANS:\n",
    "   - Return values in function is value returned by function, it can be of data type like int, a string, a list or a dictionary.\n",
    "   - yes, it is possible to have return value in expression by assigning value of function to a variable.\n"
   ]
  },
  {
   "cell_type": "markdown",
   "id": "765155d4",
   "metadata": {},
   "source": [
    "8. If a function does not have a return statement, what is the return value of a call to that function?\n",
    "ANS:\n",
    "   - None"
   ]
  },
  {
   "cell_type": "markdown",
   "id": "cd10d359",
   "metadata": {},
   "source": [
    "9.How do you make a function variable refer to the global variable?\n",
    "ANS:\n",
    "   - Global word can be used inside function, if variable to be referred is global variable.\n",
    " Or \n",
    "   - Non local word can be also used.\n",
    "        "
   ]
  },
  {
   "cell_type": "markdown",
   "id": "3e8e3bcf",
   "metadata": {},
   "source": [
    "10.What is the data type of None?\n",
    "ANS:\n",
    "   - NoneType"
   ]
  },
  {
   "cell_type": "markdown",
   "id": "72fc659f",
   "metadata": {},
   "source": [
    "11.What does the sentence import areallyourpetsnamederic do?\n",
    "Ans:\n",
    "   - This imports the module named with 'areallyourpetsnamederic'."
   ]
  },
  {
   "cell_type": "markdown",
   "id": "618db6f8",
   "metadata": {},
   "source": [
    "12.If you had a bacon() feature in a spam module, what would you call it after importing spam?\n",
    "ANS:\n",
    "   - Import spam\n",
    "   - spam.bacon()"
   ]
  },
  {
   "cell_type": "markdown",
   "id": "f3e70313",
   "metadata": {},
   "source": [
    "13.What can you do to save a programme from crashing if it encounters an error?\n",
    "ANS:\n",
    "   - a. Using exception handling.\n",
    "   - b. Use logging: Logging is a way of recording errors that occur in your program. This can be helpful for debugging and troubleshooting errors. "
   ]
  },
  {
   "cell_type": "markdown",
   "id": "db7f7fe3",
   "metadata": {},
   "source": [
    "14. What is the purpose of the try clause? What is the purpose of the except clause?\n",
    "ANS:\n",
    "   - Try Clause: checks code for errors.\n",
    "   - Except Clause: if errors occurs, this block gets executed, it helps program to control the flow of program if error occurs in try block.\n"
   ]
  }
 ],
 "metadata": {
  "kernelspec": {
   "display_name": "Python 3 (ipykernel)",
   "language": "python",
   "name": "python3"
  },
  "language_info": {
   "codemirror_mode": {
    "name": "ipython",
    "version": 3
   },
   "file_extension": ".py",
   "mimetype": "text/x-python",
   "name": "python",
   "nbconvert_exporter": "python",
   "pygments_lexer": "ipython3",
   "version": "3.10.11"
  }
 },
 "nbformat": 4,
 "nbformat_minor": 5
}
