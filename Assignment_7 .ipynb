{
 "cells": [
  {
   "cell_type": "markdown",
   "id": "c004e2b1-6e2e-4bee-813e-55e426d11308",
   "metadata": {},
   "source": [
    "Q.1. Create two int type variables, apply addition, subtraction, division and multiplications and store the results in variables. Then print the data in the following format by calling the variables: \n",
    "First variable is __ & second variable is __. \n",
    "Addition: __ + __ = __ ",
    "Subtraction: __ - __ = __ ",
    "Multiplication: __ * __ = __ \n",
    "Division: __ / __ = __\n"
   ]
  },
  {
   "cell_type": "code",
   "execution_count": 14,
   "id": "8f8c2211-54cb-49e6-88bd-d4d9c1a1ed6b",
   "metadata": {},
   "outputs": [
    {
     "name": "stdout",
     "output_type": "stream",
     "text": [
      "12\n"
     ]
    }
   ],
   "source": [
    "first_variable=10\n",
    "second_variable=2\n",
    "Addition=first_variable+second_variable\n",
    "substraction=first_variable-second_variable\n",
    "Multiplication=first_variable*second_variable\n",
    "Division=first_variable/second_variable\n",
    "print(Addition)"
   ]
  },
  {
   "cell_type": "markdown",
   "id": "c3b45324-1dbb-48dc-bee3-2a77c7068661",
   "metadata": {},
   "source": [
    "Q.2. What is the difference between the following operators: \n",
    "•\t(i)  ‘/’ & ‘//’ \n",
    "ANS:\n",
    "- '/' : Division operator, performs normal division, which returns floating point result \n",
    "- '//': Floor division operator, also known as integer division, it rounds result to nearest integer "
   ]
  },
  {
   "cell_type": "code",
   "execution_count": 15,
   "id": "b7980569-7204-44c7-ab09-da0f8c8e5090",
   "metadata": {},
   "outputs": [
    {
     "name": "stdout",
     "output_type": "stream",
     "text": [
      "3.3333333333333335\n",
      "3\n"
     ]
    }
   ],
   "source": [
    "##Example\n",
    "p=10/3\n",
    "q=10//3\n",
    "print(p)\n",
    "print(q)"
   ]
  },
  {
   "cell_type": "markdown",
   "id": "1c111744-5dc5-487f-8663-634696e83f36",
   "metadata": {},
   "source": [
    "Q.3. List the logical operators.\n",
    "Ans:\n",
    "- Logical AND\n",
    "- Logical OR\n",
    "- Logical NOT"
   ]
  },
  {
   "cell_type": "markdown",
   "id": "c8e69a7b-e33f-40b1-8973-4e1e27d0684f",
   "metadata": {},
   "source": [
    "Q.4. Explain right shift operator and left shift operator with examples. \n",
    "Ans:\n",
    "- Right shift operator: shifts the bits of an integer to the right by a specified number of positions.\n",
    "- Left shift operator: shifts the bits of an integer to the left by a specified number of positions."
   ]
  },
  {
   "cell_type": "code",
   "execution_count": 18,
   "id": "5c8dd4d4-3eaf-403f-b329-f50ab18c5797",
   "metadata": {},
   "outputs": [
    {
     "name": "stdout",
     "output_type": "stream",
     "text": [
      "2\n",
      "40\n"
     ]
    }
   ],
   "source": [
    "#Example\n",
    "x=10\n",
    "print (x>>2)   #...right shift(binary 2=10)\n",
    "\n",
    "y=10\n",
    "print(y<<2)    #...left shift(binary 40=101000)"
   ]
  },
  {
   "cell_type": "markdown",
   "id": "8c564abe-a7b9-4601-a449-b9eb84aa9b0c",
   "metadata": {},
   "source": [
    "Q.5. Create a list containing int type data of length 15. Then write a code to check if 10 is present in the list or not. "
   ]
  },
  {
   "cell_type": "code",
   "execution_count": 19,
   "id": "a04ef1a2-ca87-45c7-a6d7-0e4b495e4ed7",
   "metadata": {},
   "outputs": [
    {
     "name": "stdout",
     "output_type": "stream",
     "text": [
      "yes\n"
     ]
    }
   ],
   "source": [
    "my_list = [5, 8, 12, 10, 15, 20, 17, 9, 11, 13, 6, 3, 18, 14, 7]\n",
    "\n",
    "if 10 in my_list:\n",
    "    print(\"yes\")\n",
    "else:\n",
    "    print(\"no\")\n"
   ]
  },
  {
   "cell_type": "code",
   "execution_count": null,
   "id": "7be12b85-df56-4f6c-a50c-6020bccd2e71",
   "metadata": {},
   "outputs": [],
   "source": []
  }
 ],
 "metadata": {
  "kernelspec": {
   "display_name": "Python 3 (ipykernel)",
   "language": "python",
   "name": "python3"
  },
  "language_info": {
   "codemirror_mode": {
    "name": "ipython",
    "version": 3
   },
   "file_extension": ".py",
   "mimetype": "text/x-python",
   "name": "python",
   "nbconvert_exporter": "python",
   "pygments_lexer": "ipython3",
   "version": "3.10.6"
  }
 },
 "nbformat": 4,
 "nbformat_minor": 5
}
