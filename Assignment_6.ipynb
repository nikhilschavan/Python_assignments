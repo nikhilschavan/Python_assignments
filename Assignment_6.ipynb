{
 "cells": [
  {
   "cell_type": "markdown",
   "id": "7371bef0-fab4-4e5f-a157-50efbcb9b2d0",
   "metadata": {},
   "source": [
    "Q.1. What are keywords in python? Using the keyword library, print all the python keywords.\n",
    "Ans:\n",
    "- Keywords in python are reserved words that have predefined meaning or functionalities, they can not be used as variable name or function name."
   ]
  },
  {
   "cell_type": "code",
   "execution_count": 1,
   "id": "94b3bebe-e647-49dc-bb32-877b7d2557ee",
   "metadata": {},
   "outputs": [
    {
     "name": "stdout",
     "output_type": "stream",
     "text": [
      "['False', 'None', 'True', 'and', 'as', 'assert', 'async', 'await', 'break', 'class', 'continue', 'def', 'del', 'elif', 'else', 'except', 'finally', 'for', 'from', 'global', 'if', 'import', 'in', 'is', 'lambda', 'nonlocal', 'not', 'or', 'pass', 'raise', 'return', 'try', 'while', 'with', 'yield']\n"
     ]
    }
   ],
   "source": [
    "import keyword\n",
    "print(keyword.kwlist)"
   ]
  },
  {
   "cell_type": "markdown",
   "id": "7168a573-2aa7-4f50-b4d8-f3922f4c4863",
   "metadata": {},
   "source": [
    "Q.2. What are the rules to create variables in python? \n",
    "Ans:\n",
    "1.\tVariable names must start with letter or underscore _\n",
    "2.\tVariables names can contain numbers letters underscores but they can not contain special characters such as $, (, *, %, etc.\n",
    "3.\tVariables names are case sensitive \n",
    "4.\tVariables names should be descriptive\n",
    "5.\tPython keywords reserved can not be used to rename variable"
   ]
  },
  {
   "cell_type": "markdown",
   "id": "be74f5c6-3444-45ca-8e47-dbc15aae992a",
   "metadata": {},
   "source": [
    "Q.3. What are the standards and conventions followed for the nomenclature of variables in python to improve code readability and maintainability? \n",
    "Ans:\n",
    "1.\tNames are written in small letters and snake case pattern followed\n",
    "2.\tUse of descriptive names\n",
    "3.\tAvoiding single character name\n",
    "4.\tAvoid reserved words\n",
    "5.\tMaintaining consistency throughout the codebase, similar pattern"
   ]
  },
  {
   "cell_type": "markdown",
   "id": "9a00dbb0-0417-43c5-a696-b1a370c71558",
   "metadata": {},
   "source": [
    "Q.4 What will happen if a keyword is used as a variable name? \n",
    "Ans:\n",
    "- If keyword is used as a variable name then it will give syntax error."
   ]
  },
  {
   "cell_type": "markdown",
   "id": "d7947f3c-e5f0-4479-a1d7-e69c8f921b11",
   "metadata": {},
   "source": [
    "Q.5 For what purpose def keyword is used?\n",
    "Ans:\n",
    "- If keyword is used as a variable name then it will give syntax error. As it would be very hard to tell (for the developers and the compilers) whether something was a variable or a keyword.08-Dec-2020"
   ]
  },
  {
   "cell_type": "markdown",
   "id": "67c5c782-fe90-41d4-9ee2-c0d45bd7d222",
   "metadata": {},
   "source": [
    "Q.6 What is the operation of this special character ‘\\’? \n",
    "Ans:\n",
    "- \\ is used as an escape character. It is used to indicate that character following \\ should be treated specially rather than its   literal meaning."
   ]
  },
  {
   "cell_type": "code",
   "execution_count": 14,
   "id": "51dd87ef-18c4-4a88-b37d-efc1338202f3",
   "metadata": {},
   "outputs": [
    {
     "name": "stdout",
     "output_type": "stream",
     "text": [
      "he said,\"hello!\"\n"
     ]
    }
   ],
   "source": [
    "#e.g.\n",
    "print(\"he said,\\\"hello!\\\"\")"
   ]
  },
  {
   "cell_type": "markdown",
   "id": "a4b61673-430f-4dc5-83ef-0222cb5a5939",
   "metadata": {},
   "source": [
    "Q.7 Give an example of the following conditions: \n",
    "Homogeneous list ",
    "Heterogeneous set ",
    "Homogeneous tuple \n",
    "Ans:\n",
    "- Homogeneous list: [4,5,6] \n",
    "     ....(Lists are ordered and mutable)\n",
    "- Heterogenous set: {4, ‘apple’, 3.24, True}\n",
    "     ....(Sets are unordered and mutable)\n",
    " - Homogenous tuple: (‘ram’, ‘shyam’)\n",
    "     ....(Tuples are orders and immutable)\n"
   ]
  },
  {
   "cell_type": "markdown",
   "id": "a0993f99-b94e-4e0c-9496-84c02f8597a2",
   "metadata": {},
   "source": [
    "Q.8 Explain the mutable and immutable data types with proper explanation & examples. \n",
    "Ans:\n",
    "- Mutable data types:\n",
    "  In mutable data types, we can modify the already existing values of the data types (such as lists, dictionaries, etc.).\n",
    "- Immutable data types:\n",
    "  In immutable data types, we cannot modify the already existing values of the data once created. (strings, bytes, frozen sets, and tuples)"
   ]
  },
  {
   "cell_type": "markdown",
   "id": "2be92a4f-285c-477c-8ab6-55bf00cdec08",
   "metadata": {},
   "source": [
    "Q.9 Write a code to create the given structure using only for loop. "
   ]
  },
  {
   "cell_type": "code",
   "execution_count": 14,
   "id": "dffcb500-e6a5-4298-8598-d92166ef3c7e",
   "metadata": {},
   "outputs": [
    {
     "name": "stdout",
     "output_type": "stream",
     "text": [
      "    *\n",
      "   ***\n",
      "  *****\n",
      " *******\n",
      "*********\n"
     ]
    }
   ],
   "source": [
    "rows = 5\n",
    "for i in range (rows):\n",
    "    for j in range(rows-i-1):\n",
    "        print(\" \",end=\"\")\n",
    "    for k in range (2*i+1):\n",
    "        print(\"*\",end=\"\")\n",
    "    print()"
   ]
  },
  {
   "cell_type": "code",
   "execution_count": null,
   "id": "8d68d36a-fd91-4dad-a7d0-69c274267c68",
   "metadata": {},
   "outputs": [],
   "source": [
    "Q.10. Write a code to create the given structure using while loop"
   ]
  },
  {
   "cell_type": "code",
   "execution_count": 62,
   "id": "38c96016-08ac-44fb-b08f-444a9717d597",
   "metadata": {},
   "outputs": [
    {
     "name": "stdout",
     "output_type": "stream",
     "text": [
      "|||||||||\n",
      " |||||||\n",
      "  |||||\n",
      "   |||\n",
      "    |\n"
     ]
    }
   ],
   "source": [
    "rows=5\n",
    "space=0\n",
    "count=9\n",
    "while rows>0:\n",
    "    i=space\n",
    "    while i>0:\n",
    "        print(\" \",end=\"\")\n",
    "        i-=1\n",
    "    j=count\n",
    "    while j>0:\n",
    "        print(\"|\",end=\"\")\n",
    "        j-=1\n",
    "    print()\n",
    "    space+=1\n",
    "    count-=2\n",
    "    rows-=1\n",
    "    "
   ]
  },
  {
   "cell_type": "code",
   "execution_count": null,
   "id": "d8c168e1-256e-4937-a7d8-fa921cbec734",
   "metadata": {},
   "outputs": [],
   "source": []
  },
  {
   "cell_type": "code",
   "execution_count": null,
   "id": "e77dcfc0-07d7-4224-a7d4-5d9e5a2ce37f",
   "metadata": {},
   "outputs": [],
   "source": []
  }
 ],
 "metadata": {
  "kernelspec": {
   "display_name": "Python 3 (ipykernel)",
   "language": "python",
   "name": "python3"
  },
  "language_info": {
   "codemirror_mode": {
    "name": "ipython",
    "version": 3
   },
   "file_extension": ".py",
   "mimetype": "text/x-python",
   "name": "python",
   "nbconvert_exporter": "python",
   "pygments_lexer": "ipython3",
   "version": "3.10.6"
  }
 },
 "nbformat": 4,
 "nbformat_minor": 5
}
