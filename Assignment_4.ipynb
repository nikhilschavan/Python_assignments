{
 "cells": [
  {
   "cell_type": "markdown",
   "id": "0b9d9f98-2d7d-47ca-82ce-20a1f52af2bc",
   "metadata": {},
   "source": [
    "1.\tWhat exactly is []?\n",
    "Ans: \n",
    "   - [] is the empty list."
   ]
  },
  {
   "cell_type": "markdown",
   "id": "81b2b9f3-c283-496e-8f1d-e54c6833f1a8",
   "metadata": {},
   "source": [
    "2. In a list of values stored in a variable called spam, how would you assign the value 'hello' as the third value? (Assume [2, 4, 6, 8, 10] are in spam.)?\n",
    "Ans:\n",
    "   - spam[2] = \"hello\""
   ]
  },
  {
   "cell_type": "markdown",
   "id": "1853c1fd-298f-46ee-b123-d9aa19639b19",
   "metadata": {},
   "source": [
    "Let's pretend the spam includes the list ['a', 'b', 'c', 'd'] for the next three queries."
   ]
  },
  {
   "cell_type": "markdown",
   "id": "9bf7d670-d901-45c0-8edb-101e92ca2ab0",
   "metadata": {},
   "source": [
    "3. What is the value of spam[int(int('3' * 2) / 11)]?\n",
    "Ans:\n",
    "   - d"
   ]
  },
  {
   "cell_type": "markdown",
   "id": "dac84824-fe07-4e29-aa35-86dbbf839f81",
   "metadata": {},
   "source": [
    "4. What is the value of spam[-1]?\n",
    "Ans:\n",
    "  -  d"
   ]
  },
  {
   "cell_type": "markdown",
   "id": "50fa4fe0-0711-4fb0-8893-2e6bbc7ed774",
   "metadata": {},
   "source": [
    "5. What is the value of spam[:2]?\n",
    "Ans:\n",
    "   - [‘a’,’b’]"
   ]
  },
  {
   "cell_type": "markdown",
   "id": "31bc6f21-cc37-42ad-9855-8a71fc6628d9",
   "metadata": {},
   "source": [
    "Let's pretend bacon has the list [3.14, 'cat,' 11, 'cat,' True] for the next three questions."
   ]
  },
  {
   "cell_type": "markdown",
   "id": "c0c2d852-54ee-4487-9b28-8e20ba21f134",
   "metadata": {},
   "source": [
    "6. What is the value of bacon.index(‘cat')?\n",
    "Ans:\n",
    "   - 1"
   ]
  },
  {
   "cell_type": "markdown",
   "id": "2860d4ad-5433-4824-a2c2-6bd297ea6e4b",
   "metadata": {},
   "source": [
    "7. How does bacon.append(99) change the look of the list value in bacon?\n",
    "Ans:\n",
    "   - [3.14, 'cat,' 11, 'cat,' True,99]"
   ]
  },
  {
   "cell_type": "markdown",
   "id": "d4a1c20a-bf07-41aa-ab8a-bc22b70ecceb",
   "metadata": {},
   "source": [
    "8. How does bacon.remove('cat') change the look of the list in bacon?\n",
    "Ans:\n",
    "   - [3.14,' 11, 'cat,' True,99]"
   ]
  },
  {
   "cell_type": "markdown",
   "id": "61613d0b-d85c-4c7d-b61a-d31dffb9a6ae",
   "metadata": {},
   "source": [
    "9. What are the list concatenation and list replication operators?\n",
    "Ans:\n",
    "   - Concatenation operators: Is used to combine or concatenate two or more lists. \n",
    "        e.g List = list1 + list2\n",
    "   - Replication operators: Used to replicate the list as per given no of times\n",
    "        e.g List = list1*n \n",
    "            N = integer\n"
   ]
  },
  {
   "cell_type": "markdown",
   "id": "bc5366bb-d19f-442f-a9db-3a204a3d52ae",
   "metadata": {},
   "source": [
    "10. What is difference between the list methods append() and insert()?\n",
    "Ans:\n",
    "  -  Append() as element to the end of the list, whereas insert elements insert element at given index position. Append() takes only one argument , while insert takes two arguments viz. index, element to insert."
   ]
  },
  {
   "cell_type": "markdown",
   "id": "d42ad165-0d92-4ae3-8dc4-2bda657264e2",
   "metadata": {},
   "source": [
    "11. What are the two methods for removing items from a list?\n",
    "Ans:\n",
    "  -  1.\tRemove() method: Removes first occurrence of given element. Element to be removed.\n",
    "  -  2.\tPop() method: Removes element at specified index and returns element removed. Index of element to be removed. \n"
   ]
  },
  {
   "cell_type": "markdown",
   "id": "bb12f2f8-b6b5-4107-9ef4-e98b77f262dc",
   "metadata": {},
   "source": [
    "12. Describe how list values and string values are identical.\n",
    "Ans:\n",
    "   - Lists and strings share similarities with sequence of elements with indexing and slicing capabilities but they different in terms of mutability, where strings are immutable. Also list can contain any data type while strings only contains characters."
   ]
  },
  {
   "cell_type": "code",
   "execution_count": 4,
   "id": "edfde2bd-4d22-41cc-a1ea-9361f033f55a",
   "metadata": {},
   "outputs": [
    {
     "name": "stdout",
     "output_type": "stream",
     "text": [
      "3\n",
      "y\n"
     ]
    }
   ],
   "source": [
    "#Example\n",
    "\n",
    "# 1 for indexing\n",
    "\n",
    "list= [1,2,3,4,5]\n",
    "Str=(\"hey\")\n",
    "print(list[2])\n",
    "print (Str[2])"
   ]
  },
  {
   "cell_type": "code",
   "execution_count": 6,
   "id": "967bc98b-c8ef-4bcd-b37d-db112cd9ed73",
   "metadata": {},
   "outputs": [
    {
     "name": "stdout",
     "output_type": "stream",
     "text": [
      "[2, 3]\n",
      "ey\n"
     ]
    }
   ],
   "source": [
    "#Example\n",
    "\n",
    "# 2 for Slicing\n",
    "\n",
    "list= [1,2,3,4,5]\n",
    "Str=(\"hey\")\n",
    "print(list[1:3])\n",
    "print (Str[1:3])"
   ]
  },
  {
   "cell_type": "markdown",
   "id": "1e5677f1-1bdb-4359-8ef2-c1e900081ce3",
   "metadata": {},
   "source": [
    "13. What's the difference between tuples and lists?\n",
    "Ans:\n",
    "   - Mutability: Tuples are immutable while lists are mutable\n",
    "   - Syntax: Tuples syntax is (), while lists is []\n",
    "   - Usage: Tuples used majorly for data that do not change with time e.g coordinates, constants, database records, while lists used to store data that changes over time\n",
    "   - Performance: Tuples are more memory efficient and faster to process compared to lists\n"
   ]
  },
  {
   "cell_type": "markdown",
   "id": "c76d14bf-65c6-4ae7-9530-cb9d15821ecc",
   "metadata": {},
   "source": [
    "14. How do you type a tuple value that only contains the integer 42?\n",
    "Ans:\n",
    "   - My_tuple = (42,)\n",
    "   \n",
    "   -  \",\" is essential to use after a number to tell python that it is tuple with single value, else python may interpret it as simple integer value.\n"
   ]
  },
  {
   "cell_type": "code",
   "execution_count": null,
   "id": "b65d923c-b1be-470b-aa9b-eed37c4ed227",
   "metadata": {},
   "outputs": [],
   "source": [
    "15. How do you get a list value's tuple form? How do you get a tuple value's list form?\n",
    "Ans:"
   ]
  },
  {
   "cell_type": "code",
   "execution_count": 22,
   "id": "11ec9fc6-461f-4474-9483-5b8af54d4db9",
   "metadata": {},
   "outputs": [
    {
     "name": "stdout",
     "output_type": "stream",
     "text": [
      "(1, 2, 3, 4)\n"
     ]
    }
   ],
   "source": [
    "#To convert list to tuple\n",
    "my_list= [1,2,3,4]\n",
    "print(tuple(my_list))"
   ]
  },
  {
   "cell_type": "code",
   "execution_count": null,
   "id": "7de14841-58d0-4afd-b0b9-3c7df61184a2",
   "metadata": {},
   "outputs": [],
   "source": [
    "#To convert tuple to list \n",
    "tuple1 = (\"a\",\"b\",\"c\",\"d\")\n",
    "print( list(tuple1))"
   ]
  },
  {
   "cell_type": "markdown",
   "id": "6d6dfca9-1796-43cb-b8ca-356eb6d40cd8",
   "metadata": {},
   "source": [
    "16. Variables that \"contain\" list values are not necessarily lists themselves. Instead, what do they contain?\n",
    "Ans:\n",
    "- It contains reference to the memory locations where the list objects are stored, hence if two variables refers to the same list object then changes made to one variable also reflect as changes in the other variable as both variables refer to the same list object."
   ]
  },
  {
   "cell_type": "markdown",
   "id": "3413e38c-b219-46fd-92d8-1cf73ad5435f",
   "metadata": {},
   "source": [
    "17. How do you distinguish between copy.copy() and copy.deepcopy()?\n",
    "Ans:\n",
    "   - Copy.copy():\n",
    "\t- Creates shallow copies of object, where references to the original elements are maintained in the copies object.\n",
    "\t- so changes made to one affect copies object also\n",
    "\t- this is more memory efficient way of copying objects\n",
    "   - Copy.deepcopy():\n",
    "\t- creates deep copy of object, deep copy ensures copied object is fully independent of the original object\n",
    "\t- changes made to one do not affect other object\n",
    "\t- less memory efficient than copy.copy()"
   ]
  },
  {
   "cell_type": "code",
   "execution_count": null,
   "id": "ab904e5e-f808-49e7-8f72-556a0d9ae039",
   "metadata": {},
   "outputs": [],
   "source": []
  }
 ],
 "metadata": {
  "kernelspec": {
   "display_name": "Python 3 (ipykernel)",
   "language": "python",
   "name": "python3"
  },
  "language_info": {
   "codemirror_mode": {
    "name": "ipython",
    "version": 3
   },
   "file_extension": ".py",
   "mimetype": "text/x-python",
   "name": "python",
   "nbconvert_exporter": "python",
   "pygments_lexer": "ipython3",
   "version": "3.10.6"
  }
 },
 "nbformat": 4,
 "nbformat_minor": 5
}
