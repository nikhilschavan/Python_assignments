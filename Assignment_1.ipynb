{
 "cells": [
  {
   "cell_type": "markdown",
   "id": "eb8a139f-6e35-46a5-9fbc-11f8891ae9f8",
   "metadata": {},
   "source": [
    "1. In the below elements which of them are values or an expression? eg:- values can be integer or string and expressions will be mathematical operators.\n",
    "Ans:\n",
    "- * : Expression\n",
    "- hello : Value\n",
    "- -87.8 : Value\n",
    "- - : Expression\n",
    "- / : Expression\n",
    "- + : Expresion\n",
    "- 6 : Value "
   ]
  },
  {
   "cell_type": "markdown",
   "id": "8fd608a8-638a-49d7-8fb9-b5f81b9ce867",
   "metadata": {},
   "source": [
    "2. What is the difference between string and variable?.\n",
    "Ans:\n",
    "- String: A string is simply a series of characters. Anything inside quotes is considered astring in Python, and you can use single or double quotes around your strings.\n",
    "- Variable: Variables are nothing but reserved memory locaons to store values. Thismeans that when you create a variable you reserve some space in memory"
   ]
  },
  {
   "cell_type": "markdown",
   "id": "1b96d35a-ffa5-4ad9-9d7f-821f36d95afd",
   "metadata": {},
   "source": [
    "3. Describe three different data types.\n",
    "Ans:\n",
    "- Integers – This value is represented by int class. It contains positive or negative wholenumbers (without fraction or decimal). In Python there is no limit to how long aninteger value can be.\n",
    "- Float – This value is represented by float class. It is a real number with floating pointrepresentation. It is specified by a decimal point. Optionally, the character e or Efollowed by a positive or negative integer may be appended to specify scientificnotation.\n",
    "- Complex Numbers – Complex number is represented by complex class. It is specifiedas(real part) + (imaginary part) "
   ]
  },
  {
   "cell_type": "markdown",
   "id": "87c6f017-dcd7-4e5a-9930-ff2d1cef1b00",
   "metadata": {},
   "source": [
    "4. What is an expression made up of? What do all expressions do?\n",
    "Ans:\n",
    "- Expression is made up of values, containers, and mathematical operators(operands) e.g., a = 4 + 3 and expressions are used to evaluate the values or represent theresult on the screen."
   ]
  },
  {
   "cell_type": "markdown",
   "id": "559685bb-2108-49a0-97fe-f980d25f90aa",
   "metadata": {},
   "source": [
    "5. This assignment statements, like spam = 10. What is the difference between an expression and a statement?\n",
    "Ans:\n",
    "- Expression is made up of values, containers, and mathemacal operators (operands) andthe statement is just like a command that a python interpreter executes like print."
   ]
  },
  {
   "cell_type": "markdown",
   "id": "b7e0e9ac-9cd4-41a4-a8d2-f5b1b717734f",
   "metadata": {},
   "source": [
    "6. After running the following code, what does the variable bacon contain?\n",
    "Ans:\n",
    "- Bacon contain variable 23"
   ]
  },
  {
   "cell_type": "markdown",
   "id": "6b6abd88-ef17-4b73-abb5-1f9d3426f635",
   "metadata": {},
   "source": [
    "7. What should the values of the following two terms be?\n",
    "Ans:\n",
    "- Same "
   ]
  },
  {
   "cell_type": "code",
   "execution_count": 4,
   "id": "f1db6ddf-1572-4ac1-afe8-c63e8aec086d",
   "metadata": {},
   "outputs": [
    {
     "name": "stdout",
     "output_type": "stream",
     "text": [
      "spamspamspam\n",
      "spamspamspam\n"
     ]
    }
   ],
   "source": [
    "a=\"spam\" + \"spamspam\"\n",
    "print(a)\n",
    "\n",
    "b= \"spam\"*3\n",
    "print(b)"
   ]
  },
  {
   "cell_type": "markdown",
   "id": "71837515-1532-4da8-8e55-22043bc84ac4",
   "metadata": {},
   "source": [
    "8. Why is eggs a valid variable name while 100 is invalid?\n",
    "Ans:\n",
    "- variable should be start with  letter or underscore.\n",
    "- variable cannot start with number."
   ]
  },
  {
   "cell_type": "markdown",
   "id": "20aceda7-347b-4447-8df9-198177f06797",
   "metadata": {},
   "source": [
    "9. What three functions can be used to get the integer, floating-point number, or string version of a value?\n",
    "Ans:\n",
    "- str()\n",
    "- int()\n",
    "- float()"
   ]
  },
  {
   "cell_type": "markdown",
   "id": "84661494-b2d7-4157-a2c1-e25cc3778b95",
   "metadata": {},
   "source": [
    "10. Why does this expression cause an error? How can you fix it?\n",
    "Ans:\n",
    "- 99 is a integer it cannot add with strings if we have to add it with strings we need to mention its type that is str()"
   ]
  },
  {
   "cell_type": "code",
   "execution_count": 8,
   "id": "ea811986-4683-4c1f-b9fd-2569ea662ba3",
   "metadata": {},
   "outputs": [
    {
     "name": "stdout",
     "output_type": "stream",
     "text": [
      "i have eaten99burritos\n"
     ]
    }
   ],
   "source": [
    "a= \"i have eaten  + str( 99 ) +\" urritos\"\n",
    "print(a)"
   ]
  },
  {
   "cell_type": "code",
   "execution_count": null,
   "id": "7238c354-59d8-4084-97a6-ba050a21d778",
   "metadata": {},
   "outputs": [],
   "source": [
    "a= \"i have eaten  + str( 99 ) + \"burritos\""
   ]
  }
 ],
 "metadata": {
  "kernelspec": {
   "display_name": "Python 3 (ipykernel)",
   "language": "python",
   "name": "python3"
  },
  "language_info": {
   "codemirror_mode": {
    "name": "ipython",
    "version": 3
   },
   "file_extension": ".py",
   "mimetype": "text/x-python",
   "name": "python",
   "nbconvert_exporter": "python",
   "pygments_lexer": "ipython3",
   "version": "3.10.6"
  }
 },
 "nbformat": 4,
 "nbformat_minor": 5
}
