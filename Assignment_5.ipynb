{
 "cells": [
  {
   "cell_type": "markdown",
   "id": "a3feeda9-8ec8-470c-a707-16e21879be29",
   "metadata": {},
   "source": [
    "1.\tWhat does an empty dictionary's code look like?\n",
    "Ans:\n",
    "   - empty_dict = {}\n",
    "   - Or empty_dict = dict()\n"
   ]
  },
  {
   "cell_type": "markdown",
   "id": "677631b2-8ccf-41d0-897e-11d2d16300df",
   "metadata": {},
   "source": [
    "2. What is the value of a dictionary value with the key 'foo' and the value 42?"
   ]
  },
  {
   "cell_type": "code",
   "execution_count": 1,
   "id": "559ef42e-97a2-484c-b254-2c4d0832e793",
   "metadata": {},
   "outputs": [
    {
     "name": "stdout",
     "output_type": "stream",
     "text": [
      "42\n"
     ]
    }
   ],
   "source": [
    "my_dict ={\"foo\":42}\n",
    "value = my_dict[\"foo\"]\n",
    "print(value)"
   ]
  },
  {
   "cell_type": "markdown",
   "id": "bce877ef-9738-4513-a5a1-879136ebaeef",
   "metadata": {},
   "source": [
    "3. What is the most significant distinction between a dictionary and a list?\n",
    "Ans:\n",
    " - Lists: are ordered collection of element, where elements are accessed with indexes\n",
    " - dictionaries: unordered collection of element, where elements are accessed using keys.\n",
    "    \n",
    "Accessing element in dictionaries in more efficient than lists. Hence dictionaries are more suitable where fast access to elements are required.\n"
   ]
  },
  {
   "cell_type": "markdown",
   "id": "6e989da0-f955-4986-a1c5-153b21263b99",
   "metadata": {},
   "source": [
    "4. What happens if you try to access spam['foo'] if spam is {'bar': 100}?\n",
    "Ans:\n",
    "- it will throw keyError"
   ]
  },
  {
   "cell_type": "markdown",
   "id": "fd2a9b48-ad51-49db-b78e-2e5e9e4b0c4a",
   "metadata": {},
   "source": [
    "5. If a dictionary is stored in spam, what is the difference between the expressions 'cat' in spam and 'cat' in spam.keys()?\n",
    "Ans:\n",
    " - In terms of functionality, both expression will give same output, indicating whether ‘cat’ exits in spam. However, spam.keys(), which returns a view object representing the dictionary keys before performing the membership check."
   ]
  },
  {
   "cell_type": "markdown",
   "id": "134692fe-0430-4971-a909-84174681c8d7",
   "metadata": {},
   "source": [
    "6. If a dictionary is stored in spam, what is the difference between the expressions 'cat' in spam and 'cat' in spam.values()?\n",
    "Ans:\n",
    "- 1. ‘cat’ in spam: checks if cat is present across keys of dictionary spam.\n",
    "- 2. ‘cat’ in spam.values(): checks if cat is present across values in dictionary spam.\n"
   ]
  },
  {
   "cell_type": "markdown",
   "id": "7e243e70-392f-4a24-ba2b-ab2a38b3b6c2",
   "metadata": {},
   "source": [
    "7. What is a shortcut for the following code?\n",
    "    if 'color' not in spam:\n",
    "\tspam['color'] = ‘black'\n",
    "Ans: \n",
    "- spam.setdefault(‘color’,’black’) \n",
    "- This will set default color value to black in dictionary, if color key is not present."
   ]
  },
  {
   "cell_type": "markdown",
   "id": "8e276740-1290-49bc-ac66-890bb593e570",
   "metadata": {},
   "source": [
    "8. How do you \"pretty print\" dictionary values using which module and function?\n",
    "Ans:\n",
    "- Using Pprint()\n",
    "- The pprint() function of the pprint module in Python gives its users the ability to pretty print dict Python data types in a much more human-readable and presentable manner. "
   ]
  },
  {
   "cell_type": "code",
   "execution_count": null,
   "id": "2c638cc4-66ea-4bfe-b508-15d8cf6f8dee",
   "metadata": {},
   "outputs": [],
   "source": []
  },
  {
   "cell_type": "code",
   "execution_count": null,
   "id": "7783fc91-1d61-46fa-9322-3eccfc9493fa",
   "metadata": {},
   "outputs": [],
   "source": []
  }
 ],
 "metadata": {
  "kernelspec": {
   "display_name": "Python 3 (ipykernel)",
   "language": "python",
   "name": "python3"
  },
  "language_info": {
   "codemirror_mode": {
    "name": "ipython",
    "version": 3
   },
   "file_extension": ".py",
   "mimetype": "text/x-python",
   "name": "python",
   "nbconvert_exporter": "python",
   "pygments_lexer": "ipython3",
   "version": "3.10.6"
  }
 },
 "nbformat": 4,
 "nbformat_minor": 5
}
