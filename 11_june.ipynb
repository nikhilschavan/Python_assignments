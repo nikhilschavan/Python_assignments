{
 "cells": [
  {
   "cell_type": "markdown",
   "id": "afc87ce0-7ac7-43e8-bd2d-6f24cb174aa8",
   "metadata": {},
   "source": [
    "1. What is a lambda function in Python, and how does it differ from a regular function?\n",
    "Ans:\n",
    "- Lambda functions are often used where small, simple functions needed. Lambda functions are anonymouns, simple and with concise syntax than regular functions. While regular functions are more flexible and can handle more complex tasks."
   ]
  },
  {
   "cell_type": "markdown",
   "id": "41231ecc-f1f8-4a14-b6f0-aa1bb828e1ed",
   "metadata": {},
   "source": [
    "2. Can a lambda function in Python have multiple arguments? If yes, how can you define and use them?\n",
    "Ans:\n",
    "- YES"
   ]
  },
  {
   "cell_type": "code",
   "execution_count": 53,
   "id": "c5525c3e-3691-43d2-b179-c126d70307e9",
   "metadata": {},
   "outputs": [
    {
     "data": {
      "text/plain": [
       "12"
      ]
     },
     "execution_count": 53,
     "metadata": {},
     "output_type": "execute_result"
    }
   ],
   "source": [
    "#example\n",
    "fun = lambda x,y: x*y\n",
    "fun(3,4)"
   ]
  },
  {
   "cell_type": "markdown",
   "id": "eb856253-cb28-4db3-9efd-7b3ee2a80da9",
   "metadata": {},
   "source": [
    "3. How are lambda functions typically used in Python? Provide an example use case.\n",
    "Ans:\n",
    "- Lambda functions are used where small, one time functions are needed, specially when working with higher order functions like map(), filter(), reduce()"
   ]
  },
  {
   "cell_type": "code",
   "execution_count": 60,
   "id": "b1d09062-da15-4fa7-88af-0f6bed81dcfc",
   "metadata": {},
   "outputs": [
    {
     "data": {
      "text/plain": [
       "[4, 9, 16]"
      ]
     },
     "execution_count": 60,
     "metadata": {},
     "output_type": "execute_result"
    }
   ],
   "source": [
    "#example\n",
    "lst= [2,3,4]\n",
    "sqr = map(lambda x: x**2,lst)\n",
    "list(sqr)"
   ]
  },
  {
   "cell_type": "markdown",
   "id": "4d10c618-da58-440c-980e-50f13639b6d8",
   "metadata": {},
   "source": [
    "4. What are the advantages and limitations of lambda functions compared to regular functions in\n",
    "Python?\n",
    "Ans:\n",
    "- Advantages : Simple, Concise, Easy to read, Anonymous, Easy to use with higher order functions.\n",
    "- Limitations : Limited functionality, limited reusability, difficult to debug.\n"
   ]
  },
  {
   "cell_type": "markdown",
   "id": "8a3b9606-ba69-49a0-a657-6f9b1e6e0600",
   "metadata": {},
   "source": [
    "5. Are lambda functions in Python able to access variables defined outside of their own scope? Explain with an example.\n",
    "Ans:\n",
    "- Yes lambda functions able to acess variables defined outside of their own scope.\n"
   ]
  },
  {
   "cell_type": "code",
   "execution_count": 62,
   "id": "c032607e-d174-4ab8-bcad-a7728c79007b",
   "metadata": {},
   "outputs": [
    {
     "data": {
      "text/plain": [
       "25"
      ]
     },
     "execution_count": 62,
     "metadata": {},
     "output_type": "execute_result"
    }
   ],
   "source": [
    "#example\n",
    "def out_fun(num):\n",
    "  x = 15\n",
    "  sqr = lambda num: num*2 + x\n",
    "  return sqr(num)\n",
    "\n",
    "out_fun(5)"
   ]
  },
  {
   "cell_type": "markdown",
   "id": "1ea7be91-975f-463e-befa-57873c16c56a",
   "metadata": {},
   "source": [
    "6. Write a lambda function to calculate the square of a given number."
   ]
  },
  {
   "cell_type": "code",
   "execution_count": 3,
   "id": "7b967d67-2ed5-433a-b46a-a38e80a64971",
   "metadata": {},
   "outputs": [
    {
     "data": {
      "text/plain": [
       "25"
      ]
     },
     "execution_count": 3,
     "metadata": {},
     "output_type": "execute_result"
    }
   ],
   "source": [
    "sqr = lambda x:x*x\n",
    "sqr(5)"
   ]
  },
  {
   "cell_type": "markdown",
   "id": "2acd2a5f-bd7a-45b9-9b70-d6784fbf8968",
   "metadata": {},
   "source": [
    "7. Create a lambda function to find the maximum value in a list of integers."
   ]
  },
  {
   "cell_type": "code",
   "execution_count": 4,
   "id": "27fdf39d-a39f-45db-abf0-29059ad2ffce",
   "metadata": {},
   "outputs": [
    {
     "data": {
      "text/plain": [
       "55"
      ]
     },
     "execution_count": 4,
     "metadata": {},
     "output_type": "execute_result"
    }
   ],
   "source": [
    "num= [2,33,44,55]\n",
    "max_num=lambda x: max(x)\n",
    "max_num(num)"
   ]
  },
  {
   "cell_type": "markdown",
   "id": "52b971fb-5330-45de-bb2f-65bf8e901261",
   "metadata": {},
   "source": [
    "8. Implement a lambda function to filter out all the even numbers from a list of integers."
   ]
  },
  {
   "cell_type": "code",
   "execution_count": null,
   "id": "bdbb9633-35f0-446a-ac87-3a0973c27809",
   "metadata": {},
   "outputs": [
    {
     "data": {
      "text/plain": [
       "[2, 4, 8, 10]"
      ]
     },
     "execution_count": 14,
     "metadata": {},
     "output_type": "execute_result"
    }
   ],
   "source": [
    "lst=[1,2,3,4,5,7,8,9,10]\n",
    "even_num = list(filter(lambda x: x%2==0,lst))\n",
    "even_num"
   ]
  },
  {
   "cell_type": "markdown",
   "id": "b853d6dd-73be-46f9-b5bd-b883c12fccce",
   "metadata": {},
   "source": [
    "9. Write a lambda function to sort a list of strings in ascending order based on the length of each string."
   ]
  },
  {
   "cell_type": "code",
   "execution_count": 23,
   "id": "ecefb561-76ff-4c4e-9b37-ba0780b824ec",
   "metadata": {},
   "outputs": [
    {
     "data": {
      "text/plain": [
       "['teja', 'nikhil', 'prathamesh']"
      ]
     },
     "execution_count": 23,
     "metadata": {},
     "output_type": "execute_result"
    }
   ],
   "source": [
    "lst = ['nikhil','prathamesh','teja']\n",
    "\n",
    "sort_strn = sorted(lst, key=lambda x: len(x))\n",
    "sort_strn"
   ]
  },
  {
   "cell_type": "markdown",
   "id": "437b2379-4c81-4f1e-b3a3-bf04f5fbd651",
   "metadata": {},
   "source": [
    "10. Create a lambda function that takes two lists as input and returns a new list containing the common elements between the two lists."
   ]
  },
  {
   "cell_type": "code",
   "execution_count": 26,
   "id": "39372ff4-6646-4139-9a0a-8c5964f9f19e",
   "metadata": {},
   "outputs": [
    {
     "data": {
      "text/plain": [
       "[6, 4, 7]"
      ]
     },
     "execution_count": 26,
     "metadata": {},
     "output_type": "execute_result"
    }
   ],
   "source": [
    "lst1 = [3,4,6,7]\n",
    "lst2 = [6,54,4,37,7]\n",
    "\n",
    "comm_element = lambda a,b: list(filter(lambda x: x in a,b))\n",
    "comm_element(lst1,lst2)"
   ]
  },
  {
   "cell_type": "markdown",
   "id": "8efd71ac-e766-4d1c-a801-8ef628218a4f",
   "metadata": {},
   "source": [
    "11. Write a recursive function to calculate the factorial of a given positive integer."
   ]
  },
  {
   "cell_type": "code",
   "execution_count": 45,
   "id": "ef9714ec-f60f-456c-9359-d801879e22df",
   "metadata": {},
   "outputs": [
    {
     "data": {
      "text/plain": [
       "120"
      ]
     },
     "execution_count": 45,
     "metadata": {},
     "output_type": "execute_result"
    }
   ],
   "source": [
    "def fact(n):\n",
    "  if n == 0 or n == 1:\n",
    "    return (1)\n",
    "  else:\n",
    "    return (n*fact(n-1))\n",
    "fact(5)"
   ]
  },
  {
   "cell_type": "markdown",
   "id": "add27927-1353-484e-9697-66596bf9e0b5",
   "metadata": {},
   "source": [
    "12. Implement a recursive function to compute the nth Fibonacci number."
   ]
  },
  {
   "cell_type": "code",
   "execution_count": 47,
   "id": "0d17b80f-47c1-42de-a416-d9a755d97f70",
   "metadata": {},
   "outputs": [
    {
     "data": {
      "text/plain": [
       "8"
      ]
     },
     "execution_count": 47,
     "metadata": {},
     "output_type": "execute_result"
    }
   ],
   "source": [
    "def fib(n):\n",
    "  if n == 0:\n",
    "    return 0\n",
    "  if n == 1:\n",
    "    return 1\n",
    "  if n == 2:\n",
    "    return 1\n",
    "  else:\n",
    "    return fib(n-1)+fib(n-2)\n",
    "\n",
    "fib(6)"
   ]
  },
  {
   "cell_type": "markdown",
   "id": "39056e4d-3ec7-445a-abdc-ced896b8664f",
   "metadata": {},
   "source": [
    "13. Create a recursive function to find the sum of all the elements in a given list."
   ]
  },
  {
   "cell_type": "code",
   "execution_count": 49,
   "id": "8ca5d1c5-841c-4489-b819-8e3d4a931bce",
   "metadata": {},
   "outputs": [
    {
     "data": {
      "text/plain": [
       "13"
      ]
     },
     "execution_count": 49,
     "metadata": {},
     "output_type": "execute_result"
    }
   ],
   "source": [
    "lst1 = [5,6,-1,3]\n",
    "\n",
    "def sum1(lst):\n",
    "  if len(lst) == 0:\n",
    "    return 0\n",
    "  else:\n",
    "    return lst[0] + sum1(lst[1:])\n",
    "\n",
    "sum1(lst1)"
   ]
  },
  {
   "cell_type": "markdown",
   "id": "4d52d8cf-4361-422b-bf9c-50822046e51e",
   "metadata": {},
   "source": [
    "14. Write a recursive function to determine whether a given string is a palindrome."
   ]
  },
  {
   "cell_type": "code",
   "execution_count": 50,
   "id": "022ca1c1-0125-45f5-a171-690b13ef0085",
   "metadata": {},
   "outputs": [
    {
     "data": {
      "text/plain": [
       "False"
      ]
     },
     "execution_count": 50,
     "metadata": {},
     "output_type": "execute_result"
    }
   ],
   "source": [
    "stri = 'NIKHIL'\n",
    "\n",
    "def is_pal(stn):\n",
    "  if len(stn) <= 1:\n",
    "    return True\n",
    "  elif stn[0] != stn[-1]:\n",
    "    return False\n",
    "  else:\n",
    "    return is_pal(stn[1:-1])\n",
    "\n",
    "is_pal(stri)"
   ]
  },
  {
   "cell_type": "markdown",
   "id": "f0c52a28-6b4a-43b3-ac61-b27728df6610",
   "metadata": {},
   "source": [
    "15. Implement a recursive function to find the greatest common divisor (GCD) of two positive integers."
   ]
  },
  {
   "cell_type": "code",
   "execution_count": 52,
   "id": "40fd4ac8-8def-4904-91fc-9a5b48eaa30a",
   "metadata": {},
   "outputs": [
    {
     "data": {
      "text/plain": [
       "2"
      ]
     },
     "execution_count": 52,
     "metadata": {},
     "output_type": "execute_result"
    }
   ],
   "source": [
    "def GCD(a, b):\n",
    "    if b == 0:\n",
    "        return a\n",
    "    else:\n",
    "        return GCD(b, a % b)\n",
    "\n",
    "GCD(44,46)\n",
    "     "
   ]
  },
  {
   "cell_type": "code",
   "execution_count": null,
   "id": "410e834c-6c62-44d5-91e3-9abd2617103e",
   "metadata": {},
   "outputs": [],
   "source": []
  }
 ],
 "metadata": {
  "kernelspec": {
   "display_name": "Python 3 (ipykernel)",
   "language": "python",
   "name": "python3"
  },
  "language_info": {
   "codemirror_mode": {
    "name": "ipython",
    "version": 3
   },
   "file_extension": ".py",
   "mimetype": "text/x-python",
   "name": "python",
   "nbconvert_exporter": "python",
   "pygments_lexer": "ipython3",
   "version": "3.10.6"
  }
 },
 "nbformat": 4,
 "nbformat_minor": 5
}
