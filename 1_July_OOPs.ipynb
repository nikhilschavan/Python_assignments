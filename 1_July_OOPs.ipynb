{
 "cells": [
  {
   "cell_type": "markdown",
   "id": "39843fcb",
   "metadata": {},
   "source": [
    "1. What is the primary goal of Object-Oriented Programming (OOP)?\n",
    " ANS : \n",
    " - The major goal if OOP is To hold entire data into a single object so that it would be easy to pass this to other methods and objects.\n",
    " - Goals of objectives:\n",
    "    - Abstraction \n",
    "    - Encapsulation\n",
    "    - Inheritance\n",
    "    - Polymorphism"
   ]
  },
  {
   "cell_type": "markdown",
   "id": "363b37d0",
   "metadata": {},
   "source": [
    "2. What is object in python?\n",
    "ANS: \n",
    " - Objects are variables which contain data and functions that can be used to manipulate the data.\n",
    " - types of objects in python:\n",
    "     - string\n",
    "     - integer\n",
    "     - touple \n",
    "     - dictionary etc.."
   ]
  },
  {
   "cell_type": "markdown",
   "id": "26599588",
   "metadata": {},
   "source": [
    "3. What is a class in Python?\n",
    "ANS:\n",
    "    - class is blueprint or template from which objects are cleated.\n",
    "    - it is group of objects that can share common properties and behaviour among themselves.\n",
    "    - it can also known as code template for creatng objects."
   ]
  },
  {
   "cell_type": "markdown",
   "id": "d924a804",
   "metadata": {},
   "source": [
    "4.What are attributes and methods in a class? \n",
    "ANS:\n",
    "    - Attributes and methods defines structure and behaviour of object created from that class.\n",
    "    \n",
    "    - Attributes:\n",
    "        - A variable stored in instance or class is called attribute.\n",
    "        - They represents the characteristics or properties of the objects. Attributes defines the state of the objects.\n",
    "   \n",
    "    - Methods:\n",
    "        - Function stored in an instance or class is called methods.\n",
    "        - these are functions that operates on the attributes or preform specific actions related to the class."
   ]
  },
  {
   "cell_type": "markdown",
   "id": "0d93b0ba",
   "metadata": {},
   "source": [
    "5. What is the difference between class variables and instance variables in Python?\n",
    "ANS:\n",
    "    - class variables:\n",
    "        - shared accross all objects of the class.\n",
    "        - Modifying a class variable affects all object instance at same time.\n",
    "        \n",
    "    - Instance variables:\n",
    "        - Content of instance variables are completely indipendent from one object to the another.\n",
    "        - It does not affect any modifications on all objects.\n",
    "        "
   ]
  },
  {
   "cell_type": "markdown",
   "id": "1288be49",
   "metadata": {},
   "source": [
    "6. What is the purpose of the self parameter in Python class methods? \n",
    "ANS:\n",
    "    -  The self parameter in class methods is a special variable that represents the instance of the class.\n",
    "    -  This allows to access variables, Attributes and methods of Defined class in python.\n",
    "    "
   ]
  },
  {
   "cell_type": "markdown",
   "id": "7eb29b14",
   "metadata": {},
   "source": [
    "7. For a library management system, you have to design the \"Book\" class with OOP principles in mind. \n",
    "The “Book” class will have following attributes: \n",
    "a. title: Represents the title of the book. \n",
    "b. author: Represents the author(s) of the book. \n",
    "c. isbn: Represents the ISBN (International Standard Book Number) of the book. \n",
    "d. publication_year: Represents the year of publication of the book. \n",
    "e. available_copies: Represents the number of copies available for checkout. \n",
    "The class will alsoinclude the following methods: \n",
    "a. check_out(self): Decrements the available copies by one if there are copies available for checkout. \n",
    "b. return_book(self): Increments the available copies by one when a book is returned. \n",
    "c. display_book_info(self): Displays the information about the book, including its attributes and the number of available copies."
   ]
  },
  {
   "cell_type": "code",
   "execution_count": 14,
   "id": "8d1b9f69",
   "metadata": {},
   "outputs": [],
   "source": [
    "class Book:\n",
    "    def __init__(self, title, author, isbn, publication_year, available_copies):\n",
    "        self.title = title\n",
    "        self.author = author\n",
    "        self.isbn = isbn\n",
    "        self.publication_year = publication_year\n",
    "        self.available_copies = available_copies\n",
    "\n",
    "    def check_out(self):\n",
    "        if self.available_copies > 0:\n",
    "            self.available_copies -= 1\n",
    "            print(f\"A copy of '{self.title}' has been checked out.\")\n",
    "        else:\n",
    "            print(f\"Sorry, no available copies of '{self.title}' for checkout.\")\n",
    "\n",
    "    def return_book(self):\n",
    "        self.available_copies += 1\n",
    "        print(f\"A copy of '{self.title}' has been returned.\")\n",
    "\n",
    "    def display_book_info(self):\n",
    "        print(\"Book Information:\")\n",
    "        print(f\"Title: {self.title}\")\n",
    "        print(f\"Author: {self.author}\")\n",
    "        print(f\"ISBN: {self.isbn}\")\n",
    "        print(f\"Publication Year: {self.publication_year}\")\n",
    "        print(f\"Available Copies: {self.available_copies}\")"
   ]
  },
  {
   "cell_type": "code",
   "execution_count": 27,
   "id": "8f1976ef",
   "metadata": {},
   "outputs": [],
   "source": [
    "book1 = Book(\"AI & ML\", \"Dr. Prashant Nehe\", \"978-93-5583-8\", 2015, 5)"
   ]
  },
  {
   "cell_type": "code",
   "execution_count": 28,
   "id": "fc43d059",
   "metadata": {
    "scrolled": true
   },
   "outputs": [
    {
     "name": "stdout",
     "output_type": "stream",
     "text": [
      "Book Information:\n",
      "Title: AI & ML\n",
      "Author: Dr. Prashant Nehe\n",
      "ISBN: 978-93-5583-8\n",
      "Publication Year: 2015\n",
      "Available Copies: 5\n"
     ]
    }
   ],
   "source": [
    "book1.display_book_info()"
   ]
  },
  {
   "cell_type": "markdown",
   "id": "6b5abc50",
   "metadata": {},
   "source": [
    "8. For a ticket booking system, you have to design the \"Ticket\" class with OOP\n",
    "principles in mind. The “Ticket” class should have the following attributes:\n",
    "a. ticket_id: Represents the unique identifier for the ticket.\n",
    "b. event_name: Represents the name of the event.\n",
    "c. event_date: Represents the date of the event.\n",
    "d. venue: Represents the venue of the event.\n",
    "e. seat_number: Represents the seat number associated with the ticket.\n",
    "f. price: Represents the price of the ticket.\n",
    "g. is_reserved: Represents the reservation status of the ticket.\n",
    "The class also includes the following methods:\n",
    "a. reserve_ticket(self): Marks the ticket as reserved if it is not already reserved.\n",
    "b. cancel_reservation(self): Cancels the reservation of the ticket if it is already\n",
    "reserved.\n",
    "c. display_ticket_info(self): Displays the information about the ticket, including its\n",
    "attributes and reservation status."
   ]
  },
  {
   "cell_type": "code",
   "execution_count": 29,
   "id": "764182c8",
   "metadata": {},
   "outputs": [],
   "source": [
    "class Ticket:\n",
    "    def __init__(self, ticket_id, event_name, event_date, venue, seat_number, price, is_reserved=False):\n",
    "        self.ticket_id = ticket_id\n",
    "        self.event_name = event_name\n",
    "        self.event_date = event_date\n",
    "        self.venue = venue\n",
    "        self.seat_number = seat_number\n",
    "        self.price = price\n",
    "        self.is_reserved = is_reserved\n",
    "\n",
    "    def reserve_ticket(self):\n",
    "        if not self.is_reserved:\n",
    "            self.is_reserved = True\n",
    "            print(f\"Ticket {self.ticket_id} reserved successfully.\")\n",
    "        else:\n",
    "            print(f\"Ticket {self.ticket_id} is already reserved.\")\n",
    "\n",
    "    def cancel_reservation(self):\n",
    "        if self.is_reserved:\n",
    "            self.is_reserved = False\n",
    "            print(f\"Reservation for ticket {self.ticket_id} is canceled.\")\n",
    "        else:\n",
    "            print(f\"Ticket {self.ticket_id} is not reserved.\")\n",
    "\n",
    "    def display_ticket_info(self):\n",
    "        print(f\"Ticket ID: {self.ticket_id}\")\n",
    "        print(f\"Event Name: {self.event_name}\")\n",
    "        print(f\"Event Date: {self.event_date}\")\n",
    "        print(f\"Venue: {self.venue}\")\n",
    "        print(f\"Seat Number: {self.seat_number}\")\n",
    "        print(f\"Price: {self.price}\")\n",
    "        print(f\"Is Reserved: {'Yes' if self.is_reserved else 'No'}\")"
   ]
  },
  {
   "cell_type": "code",
   "execution_count": 30,
   "id": "534cc745",
   "metadata": {},
   "outputs": [],
   "source": [
    "ticket1 = Ticket(ticket_id=1001, event_name=\"Expert Talk\", event_date=\"2023-24-08\", venue=\"Vishwakarma hall\", seat_number=\"B2002\", price=151)"
   ]
  },
  {
   "cell_type": "code",
   "execution_count": 33,
   "id": "3eda648a",
   "metadata": {},
   "outputs": [
    {
     "name": "stdout",
     "output_type": "stream",
     "text": [
      "Ticket ID: 1001\n",
      "Event Name: Expert Talk\n",
      "Event Date: 2023-24-08\n",
      "Venue: Vishwakarma hall\n",
      "Seat Number: B2002\n",
      "Price: 151\n",
      "Is Reserved: No\n"
     ]
    }
   ],
   "source": [
    "ticket1.display_ticket_info()"
   ]
  },
  {
   "cell_type": "markdown",
   "id": "8165f8b6",
   "metadata": {},
   "source": [
    "9. You are creating a shopping cart for an e-commerce website. Using OOP to model the \"ShoppingCart\" functionality the class should contain following attributes and methods: a. items: Represents the list of items in the shopping cart. The class also includes the following methods:\n",
    "a. add_item(self, item): Adds an item to the shopping cart by appending it to the list of items. \n",
    "b. remove_item(self, item): Removes an item from the shopping cart if it exists in the list. \n",
    "c. view_cart(self): Displays the items currently present in the shopping cart. \n",
    "d. clear_cart(self): Clears all items from the shopping cart by reassigning an empty list to the items attribute."
   ]
  },
  {
   "cell_type": "code",
   "execution_count": 2,
   "id": "111d3383",
   "metadata": {},
   "outputs": [],
   "source": [
    "class ShoppingCart:\n",
    "  def __init__(self, items):\n",
    "    self.items = items\n",
    "\n",
    "  def add_item(self,item):\n",
    "    self.items.append(item)\n",
    "    print(f\"{item} added succesfully\")\n",
    "\n",
    "  def remove_item(self,item):\n",
    "    if item in self.items:\n",
    "      self.items.remove(item)\n",
    "      print(f\"{item} removed succesfully\")\n",
    "\n",
    "  def view_cart(self):\n",
    "    if len(self.items) > 0:\n",
    "      for x in self.items:\n",
    "        print(x)\n",
    "    else:\n",
    "      print(\"shopping cart is empty\")\n",
    "\n",
    "  def clear_cart(self):\n",
    "    self.items = []\n",
    "    print(\"shopping cart cleared\")"
   ]
  },
  {
   "cell_type": "code",
   "execution_count": 3,
   "id": "8b660447",
   "metadata": {},
   "outputs": [
    {
     "name": "stdout",
     "output_type": "stream",
     "text": [
      "Glasses added succesfully\n"
     ]
    }
   ],
   "source": [
    "cart1 = ShoppingCart(['Shoes','watch'])\n",
    "\n",
    "cart1.add_item(item='Glasses')"
   ]
  },
  {
   "cell_type": "code",
   "execution_count": 4,
   "id": "29d6bba7",
   "metadata": {},
   "outputs": [
    {
     "name": "stdout",
     "output_type": "stream",
     "text": [
      "Shoes\n",
      "watch\n",
      "Glasses\n"
     ]
    }
   ],
   "source": [
    "cart1.view_cart()"
   ]
  },
  {
   "cell_type": "markdown",
   "id": "fddd3048",
   "metadata": {},
   "source": [
    "10.Imagine a school management system. You have to design the \"Student\" class using\n",
    "OOP concepts.The “Student” class has the following attributes:\n",
    "a. name: Represents the name of the student.\n",
    "b. age: Represents the age of the student.\n",
    "c. grade: Represents the grade or class of the student.\n",
    "d. student_id: Represents the unique identifier for the student.\n",
    "e. attendance: Represents the attendance record of the student.\n",
    "The class should also include the following methods:\n",
    "a. update_attendance(self, date, status): Updates the attendance record of the\n",
    "student for a given date with the provided status (e.g., present or absent).\n",
    "b. get_attendance(self): Returns the attendance record of the student.\n",
    "c. get_average_attendance(self): Calculates and returns the average\n",
    "attendance percentage of the student based on their attendance record."
   ]
  },
  {
   "cell_type": "code",
   "execution_count": 23,
   "id": "788605f5",
   "metadata": {},
   "outputs": [],
   "source": [
    "class Student:\n",
    "  def __init__(self, name, age, grade, student_id, attendance):\n",
    "    self.name = name\n",
    "    self.age = age\n",
    "    self.grade = grade\n",
    "    self.student_id = student_id\n",
    "    self.attendance = attendance\n",
    "\n",
    "  def update_attendance(self,date,status):\n",
    "    self.attendance[date] = status\n",
    "\n",
    "  def get_attendance(self):\n",
    "    print(self.attendance)\n",
    "\n",
    "  def get_average_attendance(self):\n",
    "    if not self.attendance:\n",
    "        print(0) #when dict is empty to avoid divide by zero error\n",
    "    ct_present = sum(1 for x in self.attendance.values() if x == 'present')\n",
    "    avg_attendance = ct_present/len(self.attendance)\n",
    "    print(avg_attendance)"
   ]
  },
  {
   "cell_type": "code",
   "execution_count": 24,
   "id": "b08fa7f7",
   "metadata": {},
   "outputs": [],
   "source": [
    "student1 = Student(name=\"Nick\",age=10,grade= \"a+\",student_id=\"2032510\",attendance={})"
   ]
  },
  {
   "cell_type": "code",
   "execution_count": 25,
   "id": "8dae2272",
   "metadata": {},
   "outputs": [],
   "source": [
    "student1.update_attendance(date=1, status=\"present\")"
   ]
  },
  {
   "cell_type": "code",
   "execution_count": 26,
   "id": "cb3f56c4",
   "metadata": {},
   "outputs": [],
   "source": [
    "student1.update_attendance(date=2, status=\"absent\")"
   ]
  },
  {
   "cell_type": "code",
   "execution_count": 27,
   "id": "97cd606a",
   "metadata": {},
   "outputs": [],
   "source": [
    "student1.update_attendance(date=3, status=\"present\")"
   ]
  },
  {
   "cell_type": "code",
   "execution_count": 30,
   "id": "3d07bb2c",
   "metadata": {},
   "outputs": [],
   "source": [
    "student1.update_attendance(date=4, status=\"present\")"
   ]
  },
  {
   "cell_type": "code",
   "execution_count": 31,
   "id": "fbb3cdd2",
   "metadata": {},
   "outputs": [
    {
     "name": "stdout",
     "output_type": "stream",
     "text": [
      "{1: 'present', 2: 'absent', 3: 'present', 4: 'present'}\n"
     ]
    }
   ],
   "source": [
    "student1.get_attendance()"
   ]
  },
  {
   "cell_type": "code",
   "execution_count": 32,
   "id": "2621198c",
   "metadata": {},
   "outputs": [
    {
     "name": "stdout",
     "output_type": "stream",
     "text": [
      "0.75\n"
     ]
    }
   ],
   "source": [
    "student1.get_average_attendance()"
   ]
  },
  {
   "cell_type": "code",
   "execution_count": null,
   "id": "e76fe691",
   "metadata": {},
   "outputs": [],
   "source": []
  }
 ],
 "metadata": {
  "kernelspec": {
   "display_name": "Python 3 (ipykernel)",
   "language": "python",
   "name": "python3"
  },
  "language_info": {
   "codemirror_mode": {
    "name": "ipython",
    "version": 3
   },
   "file_extension": ".py",
   "mimetype": "text/x-python",
   "name": "python",
   "nbconvert_exporter": "python",
   "pygments_lexer": "ipython3",
   "version": "3.10.11"
  }
 },
 "nbformat": 4,
 "nbformat_minor": 5
}
