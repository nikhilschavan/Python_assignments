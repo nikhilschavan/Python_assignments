{
 "cells": [
  {
   "cell_type": "markdown",
   "id": "e2377f5d-a8b0-47b4-b068-cb49fdb14c84",
   "metadata": {},
   "source": [
    "Q1.What are the two values of the Boolean data type? How do you write them?\n",
    "\n",
    "Ans:\n",
    "- True and False, using capital T and F ."
   ]
  },
  {
   "cell_type": "code",
   "execution_count": 15,
   "id": "621ae7d8-c524-4dd4-88d1-d4127d90dd76",
   "metadata": {},
   "outputs": [
    {
     "name": "stdout",
     "output_type": "stream",
     "text": [
      "True\n",
      "False\n"
     ]
    }
   ],
   "source": [
    "#Eg:\n",
    "a=True\n",
    "b=False\n",
    "print(a)\n",
    "print(b)"
   ]
  },
  {
   "cell_type": "markdown",
   "id": "f5a1eec0-490e-4fd9-b4f2-12c5973b9f04",
   "metadata": {},
   "source": [
    "Q2. What are the three different types of Boolean operators?\n",
    "\n",
    "Ans :\n",
    "- and, or, and not"
   ]
  },
  {
   "cell_type": "markdown",
   "id": "d981e59a-3e14-4213-95cd-a401bf53c9e8",
   "metadata": {},
   "source": [
    "Q3. Make a list of each Boolean operator's truth tables (i.e. every possible combination of Boolean\n",
    "values for the operator and what it evaluate ).\n",
    "\n",
    "Ans:\n",
    "- True and True is True.\n",
    "\n",
    "- True and False is False.\n",
    "\n",
    "- False and True is False.\n",
    "\n",
    "- False and False is False.\n",
    "\n",
    "- True or True is True.\n",
    "\n",
    "- True or False is True.\n",
    "\n",
    "- False or True is True.\n",
    "\n",
    "- False or False is False.\n",
    "\n",
    "- not True is False.\n",
    "\n",
    "- not False is True."
   ]
  },
  {
   "cell_type": "code",
   "execution_count": null,
   "id": "d58c4490-1a1a-46ca-81cd-52848c28958d",
   "metadata": {},
   "outputs": [],
   "source": [
    "Q4. What are the values of the following expressions?"
   ]
  },
  {
   "cell_type": "code",
   "execution_count": 19,
   "id": "d1d8d203-e57d-4fe4-8f76-c53aa69fbe3a",
   "metadata": {},
   "outputs": [
    {
     "name": "stdout",
     "output_type": "stream",
     "text": [
      "False\n",
      "False\n",
      "False\n",
      "True\n",
      "False\n",
      "True\n"
     ]
    }
   ],
   "source": [
    "print((6>4) and (4==5))\n",
    "print(not(6>4))\n",
    "print((3>4) or (3==5))\n",
    "print(not(2>4) or (3==5))\n",
    "print((True and True) and (True==False))\n",
    "print((not(False))or(not(True)))"
   ]
  },
  {
   "cell_type": "markdown",
   "id": "a0e3e5b6-9e6e-4877-8e77-e56caa46415d",
   "metadata": {},
   "source": [
    "Q5. What are the six comparison operators?\n",
    "Ans:\n",
    "- ==, !=, <, >, <=, and >="
   ]
  },
  {
   "cell_type": "markdown",
   "id": "3b3881f3-6ed8-493f-9a7a-48bc68b407d8",
   "metadata": {},
   "source": [
    "Q6. How do you tell the difference between the equal to and assignment operators?Describe a condition and when you would use one.\n",
    "Ans:\n",
    "- == is the equal to operator that compares two values and evaluates to a Boolean, while = is the assignment operator that stores a value in a variable."
   ]
  },
  {
   "cell_type": "code",
   "execution_count": 3,
   "id": "2c87fd27-690d-459a-9832-8b072b1ca182",
   "metadata": {},
   "outputs": [
    {
     "name": "stdout",
     "output_type": "stream",
     "text": [
      "False\n",
      "5\n"
     ]
    }
   ],
   "source": [
    "#eg.\n",
    "\n",
    "# Equal To Operator\n",
    "if(5==3):\n",
    "    print(\"True\")\n",
    "else:\n",
    "    print(\"False\")\n",
    "#Assignment operator\n",
    "a=5 #here we have used assignment operator(=)\n",
    "print(a)"
   ]
  },
  {
   "cell_type": "markdown",
   "id": "46792919-1b66-4869-962f-cafc8c912817",
   "metadata": {},
   "source": [
    "Q7. Identify the three blocks in this code:"
   ]
  },
  {
   "cell_type": "code",
   "execution_count": 4,
   "id": "b4a74d4a-c643-4d9e-84dc-e9d103d205e0",
   "metadata": {},
   "outputs": [
    {
     "name": "stdout",
     "output_type": "stream",
     "text": [
      "ham\n",
      "spam\n",
      "spam\n"
     ]
    }
   ],
   "source": [
    "spam = 0\n",
    "if spam == 10:\n",
    "    print('eggs') #Block 1\n",
    "if spam > 5:\n",
    "    print('bacon') #Block 2\n",
    "else:\n",
    "    print('ham') #Block 3\n",
    "    print('spam')\n",
    "    print('spam')"
   ]
  },
  {
   "cell_type": "markdown",
   "id": "a2ad55c2-10f3-4160-a745-1f0e0de45d9e",
   "metadata": {},
   "source": [
    "Q8. Write code that prints Hello if 1 is stored in spam, prints Howdy if 2 is stored in spam, and prints Greetings! if anything else is stored in spam."
   ]
  },
  {
   "cell_type": "code",
   "execution_count": 6,
   "id": "2e40359b-8cb6-4160-a8b5-c9301ef25367",
   "metadata": {},
   "outputs": [
    {
     "name": "stdin",
     "output_type": "stream",
     "text": [
      "Your no.: 2\n"
     ]
    },
    {
     "name": "stdout",
     "output_type": "stream",
     "text": [
      "Howdy\n"
     ]
    }
   ],
   "source": [
    "spam = int(input(\"Your no.:\"))\n",
    "if spam == 1:\n",
    "    print(\"Hello\")\n",
    "elif spam == 2:\n",
    "    print(\"Howdy\")\n",
    "else:\n",
    "    print(\"Greetings!\")"
   ]
  },
  {
   "cell_type": "markdown",
   "id": "b4d6e048-0680-4141-bb62-98bf31388ee3",
   "metadata": {},
   "source": [
    "Q9.If your programme is stuck in an endless loop, what keys you’ll press?\n",
    "\n",
    "Ans:\n",
    "- ctrl+c."
   ]
  },
  {
   "cell_type": "markdown",
   "id": "2c00b79e-326f-4d59-8a4d-65ddc93fa746",
   "metadata": {},
   "source": [
    "Q10. How can you tell the difference between break and continue?\n",
    "Ans:\n",
    "- The break statement will move the execution outside and just after a loop. The continue statement will move the execution to the start of the loop."
   ]
  },
  {
   "cell_type": "code",
   "execution_count": 9,
   "id": "d041a137-561e-42f0-ba80-9564c2c4e5b1",
   "metadata": {},
   "outputs": [
    {
     "name": "stdout",
     "output_type": "stream",
     "text": [
      "*\n",
      "*\n",
      "*\n",
      "PAUSE\n",
      "*\n",
      "*\n",
      "*\n",
      "*\n"
     ]
    }
   ],
   "source": [
    "# use of break\n",
    "for i in range(5):\n",
    "    if(i==3):\n",
    "        break\n",
    "    print(\"*\")\n",
    "    \n",
    "print('PAUSE')\n",
    "#use of  continue\n",
    "for i in range(5):\n",
    "    if(i==3):\n",
    "        continue\n",
    "    print(\"*\")\n",
    "    "
   ]
  },
  {
   "cell_type": "markdown",
   "id": "523aae5c-e5a6-4ed8-b1d5-d92673fd28d0",
   "metadata": {},
   "source": [
    "Q11. In a for loop, what is the difference between range(10), range(0, 10), and range(0, 10, 1)?\n",
    "Ans:\n",
    "-  The range(10) call ranges from 0 up to (but not including) 10, range(0, 10) tells the loop to start at 0, and range(0, 10, 1) tells the loop to increase the variable by 1 on each iteration."
   ]
  },
  {
   "cell_type": "code",
   "execution_count": 14,
   "id": "1b8d8454-3732-42d9-96e9-7d36e52bf8a8",
   "metadata": {},
   "outputs": [
    {
     "name": "stdout",
     "output_type": "stream",
     "text": [
      "0\n",
      "1\n",
      "2\n",
      "3\n",
      "4\n",
      "5\n",
      "6\n",
      "7\n",
      "8\n",
      "9\n",
      "-------------------------\n",
      "0\n",
      "1\n",
      "2\n",
      "3\n",
      "4\n",
      "5\n",
      "6\n",
      "7\n",
      "8\n",
      "9\n",
      "-------------------------\n",
      "0\n",
      "1\n",
      "2\n",
      "3\n",
      "4\n",
      "5\n",
      "6\n",
      "7\n",
      "8\n",
      "9\n"
     ]
    }
   ],
   "source": [
    "#E.G.\n",
    "for i in range(10):\n",
    "    print(i)\n",
    "print(\"-------------------------\")\n",
    "for i in range(0,10):\n",
    "    print(i)\n",
    "print(\"-------------------------\")    \n",
    "for i in range(0,10,1):\n",
    "    print(i)"
   ]
  },
  {
   "cell_type": "markdown",
   "id": "1efaa54e-6b8c-4be9-8a40-06f23fcc61f1",
   "metadata": {},
   "source": [
    "Q12. Write a short program that prints the numbers 1 to 10 using a for loop. Then write an equivalent program that prints the numbers 1 to 10 using a while loop."
   ]
  },
  {
   "cell_type": "code",
   "execution_count": 16,
   "id": "cf51e53b-5af2-417c-ac82-913ff212d984",
   "metadata": {},
   "outputs": [
    {
     "name": "stdout",
     "output_type": "stream",
     "text": [
      "1\n",
      "2\n",
      "3\n",
      "4\n",
      "5\n",
      "6\n",
      "7\n",
      "8\n",
      "9\n",
      "10\n"
     ]
    }
   ],
   "source": [
    "#For Loop\n",
    "for i in range(1,11):\n",
    "    print(i)"
   ]
  },
  {
   "cell_type": "code",
   "execution_count": 18,
   "id": "2d856ec4-5ef7-45d0-ac80-3a723795c1b8",
   "metadata": {},
   "outputs": [
    {
     "name": "stdout",
     "output_type": "stream",
     "text": [
      "1\n",
      "2\n",
      "3\n",
      "4\n",
      "5\n",
      "6\n",
      "7\n",
      "8\n",
      "9\n",
      "10\n"
     ]
    }
   ],
   "source": [
    "#while loop\n",
    "x=1\n",
    "while x<=10:\n",
    "    print(x)\n",
    "    x+=1"
   ]
  },
  {
   "cell_type": "markdown",
   "id": "045db564-602f-45e0-b04a-0e139ce55204",
   "metadata": {},
   "source": [
    "Q13. If you had a function named bacon() inside a module named spam, how would you call it after importing spam?\n",
    "\n",
    "Ans:\n",
    "- This function can be called with spam.bacon()."
   ]
  }
 ],
 "metadata": {
  "kernelspec": {
   "display_name": "Python 3 (ipykernel)",
   "language": "python",
   "name": "python3"
  },
  "language_info": {
   "codemirror_mode": {
    "name": "ipython",
    "version": 3
   },
   "file_extension": ".py",
   "mimetype": "text/x-python",
   "name": "python",
   "nbconvert_exporter": "python",
   "pygments_lexer": "ipython3",
   "version": "3.10.6"
  }
 },
 "nbformat": 4,
 "nbformat_minor": 5
}
